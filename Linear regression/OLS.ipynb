{
 "cells": [
  {
   "cell_type": "code",
   "execution_count": 8,
   "id": "3a9dc382-0225-4226-96bb-52d9bad21d90",
   "metadata": {},
   "outputs": [],
   "source": [
    "import numpy as np\n",
    "import matplotlib.pyplot as plt\n",
    "import pandas as pd\n",
    "%matplotlib inline"
   ]
  },
  {
   "cell_type": "code",
   "execution_count": 86,
   "id": "a5ed1a79-8d19-4c7f-b723-389cc299b6c5",
   "metadata": {},
   "outputs": [
    {
     "data": {
      "text/html": [
       "<div>\n",
       "<style scoped>\n",
       "    .dataframe tbody tr th:only-of-type {\n",
       "        vertical-align: middle;\n",
       "    }\n",
       "\n",
       "    .dataframe tbody tr th {\n",
       "        vertical-align: top;\n",
       "    }\n",
       "\n",
       "    .dataframe thead th {\n",
       "        text-align: right;\n",
       "    }\n",
       "</style>\n",
       "<table border=\"1\" class=\"dataframe\">\n",
       "  <thead>\n",
       "    <tr style=\"text-align: right;\">\n",
       "      <th></th>\n",
       "      <th>Gender</th>\n",
       "      <th>Age Range</th>\n",
       "      <th>Head Size(cm^3)</th>\n",
       "      <th>Brain Weight(grams)</th>\n",
       "    </tr>\n",
       "  </thead>\n",
       "  <tbody>\n",
       "    <tr>\n",
       "      <th>0</th>\n",
       "      <td>1</td>\n",
       "      <td>1</td>\n",
       "      <td>4512</td>\n",
       "      <td>1530</td>\n",
       "    </tr>\n",
       "    <tr>\n",
       "      <th>1</th>\n",
       "      <td>1</td>\n",
       "      <td>1</td>\n",
       "      <td>3738</td>\n",
       "      <td>1297</td>\n",
       "    </tr>\n",
       "    <tr>\n",
       "      <th>2</th>\n",
       "      <td>1</td>\n",
       "      <td>1</td>\n",
       "      <td>4261</td>\n",
       "      <td>1335</td>\n",
       "    </tr>\n",
       "    <tr>\n",
       "      <th>3</th>\n",
       "      <td>1</td>\n",
       "      <td>1</td>\n",
       "      <td>3777</td>\n",
       "      <td>1282</td>\n",
       "    </tr>\n",
       "    <tr>\n",
       "      <th>4</th>\n",
       "      <td>1</td>\n",
       "      <td>1</td>\n",
       "      <td>4177</td>\n",
       "      <td>1590</td>\n",
       "    </tr>\n",
       "  </tbody>\n",
       "</table>\n",
       "</div>"
      ],
      "text/plain": [
       "   Gender  Age Range  Head Size(cm^3)  Brain Weight(grams)\n",
       "0       1          1             4512                 1530\n",
       "1       1          1             3738                 1297\n",
       "2       1          1             4261                 1335\n",
       "3       1          1             3777                 1282\n",
       "4       1          1             4177                 1590"
      ]
     },
     "execution_count": 86,
     "metadata": {},
     "output_type": "execute_result"
    }
   ],
   "source": [
    "dataset = pd.read_csv('dataset.csv')\n",
    "dataset.head()"
   ]
  },
  {
   "cell_type": "markdown",
   "id": "4056c591-34ca-4702-9e88-69fc28a4eb56",
   "metadata": {},
   "source": [
    "### Ordinary least squares (OLS) regression\n",
    "\n",
    "$$\n",
    "\\beta_i = \\frac{\\sum_i (x_i - \\bar{x})(y_i - \\bar{y})}{\\sum_i (x_i - \\bar{x})^2}\n",
    "$$\n",
    "\n",
    "$$\n",
    "\\hat{\\beta}_0 = \\bar{y} - \\beta_1 \\bar{x}\n",
    "$$"
   ]
  },
  {
   "cell_type": "code",
   "execution_count": 48,
   "id": "05097db8-a611-4ad4-a794-da99cb24c5eb",
   "metadata": {},
   "outputs": [
    {
     "name": "stdout",
     "output_type": "stream",
     "text": [
      "b1: 0.26342933948939945, b0: 325.57342104944223\n"
     ]
    }
   ],
   "source": [
    "X = dataset['Head Size(cm^3)'].values\n",
    "Y = dataset['Brain Weight(grams)'].values\n",
    "\n",
    "# mean of inputs and outputs\n",
    "x_mean = np.mean(X)\n",
    "y_mean = np.mean(Y)\n",
    "\n",
    "# total number of values\n",
    "n = len(X)\n",
    "\n",
    "# calculating the coefficients b2 and b0\n",
    "numerator = 0\n",
    "dinominator = 0\n",
    "for i in range(n):\n",
    "    numerator += (X[i] - x_mean) * (Y[i] - y_mean)\n",
    "    dinominator += (X[i] - x_mean) ** 2\n",
    "\n",
    "b1 = numerator / dinominator\n",
    "b0 = y_mean - (b1 * x_mean)\n",
    "\n",
    "# printing the coefficient\n",
    "print(f\"b1: {b1}, b0: {b0}\")"
   ]
  },
  {
   "cell_type": "markdown",
   "id": "a5b24bab-9657-4bad-b782-d2527f7c05c4",
   "metadata": {},
   "source": [
    "$Brain\\ weights =  325.57342104944223 + 0.26342933948939945\\times Head\\ size$\n"
   ]
  },
  {
   "cell_type": "code",
   "execution_count": 135,
   "id": "85fbe97f-eb54-439a-83b9-cd40968af0ed",
   "metadata": {},
   "outputs": [
    {
     "data": {
      "image/png": "[encoded data removed]",
      "text/plain": [
       "<Figure size 640x480 with 1 Axes>"
      ]
     },
     "metadata": {},
     "output_type": "display_data"
    }
   ],
   "source": [
    "x_max = np.max(X) + 100\n",
    "x_min = np.min(X) - 100\n",
    "\n",
    "x = np.linspace(x_min, x_max, 1000)\n",
    "y = b0 + b1 * x\n",
    "\n",
    "# plotting the line\n",
    "plt.plot(x, y, color='#00ff00', label='Linear Regression')\n",
    "\n",
    "#plot the data points\n",
    "plt.scatter(X, Y, color='#ff0000', label='Data Point')\n",
    "\n",
    "# x-axis label\n",
    "plt.xlabel('Head Size (cm^3)')\n",
    "#y-axis label\n",
    "plt.ylabel('Brain Weight (grams)')\n",
    "\n",
    "plt.legend()\n",
    "plt.show()"
   ]
  },
  {
   "cell_type": "markdown",
   "id": "67790b3d-3e02-487e-9778-5c6e010e1646",
   "metadata": {},
   "source": [
    "We need to able to measure how good our model is (accuracy). There are many methods to achieve this but we would implement _**Root mean squared error**_ and _**Coefficient of Determination (R² Score)**_.\n",
    "\n",
    "$$\n",
    "\\text{RMSE} = \\sqrt{\\frac{1}{n} \\sum_{j=1}^{n} (\\hat{y}_j - y_j)^2}\n",
    "$$"
   ]
  },
  {
   "cell_type": "code",
   "execution_count": 190,
   "id": "b6ee49d1-1587-419c-aafa-813260fda62c",
   "metadata": {},
   "outputs": [
    {
     "name": "stdout",
     "output_type": "stream",
     "text": [
      "RMSE: 72.1206213783709\n"
     ]
    }
   ],
   "source": [
    "rmse = 0\n",
    "for i in range(n):\n",
    "    y_pred = b0 + b1 * X[i] \n",
    "    rmse += (Y[i] - y_pred) ** 2\n",
    "\n",
    "rmse = np.sqrt(rmse/n)\n",
    "print(f\"RMSE: {rmse}\")"
   ]
  },
  {
   "cell_type": "markdown",
   "id": "b266fb4e-724b-4c49-8ee2-396bc548fafd",
   "metadata": {},
   "source": [
    "Now, we will find $R^2$ score, defined as follows:\n",
    "\n",
    "$$\n",
    "SS_t = \\sum_{i=1}^n (y_i - \\bar{y})^2\n",
    "$$\n",
    "\n",
    "$$\n",
    "SS_r = \\sum_{i=1}^n (y_i - \\hat{y_i})^2\n",
    "$$\n",
    "\n",
    "$$\n",
    "R^2 = 1 - \\frac {SS_r}{SS_t}\n",
    "$$ \n",
    "\n",
    "$SS_t$ is the total sum of squares and $SS_r$ is the total sum of squares of residuals. \\\n",
    "$R^2$ Score usually range from 0 to 1. Now we will find $R^2$ score."
   ]
  },
  {
   "cell_type": "code",
   "execution_count": 261,
   "id": "d46a9e50-725c-45cf-81eb-78b61b543044",
   "metadata": {},
   "outputs": [
    {
     "name": "stdout",
     "output_type": "stream",
     "text": [
      "0.6393117199570003\n"
     ]
    }
   ],
   "source": [
    "ss_t = 0\n",
    "ss_r = 0\n",
    "for i in range(n):\n",
    "    y_pred = b0 + b1 * X[i]\n",
    "    ss_t += (Y[i] - y_mean) ** 2\n",
    "    ss_r += (Y[i] - y_pred) ** 2\n",
    "r2 = 1 - (ss_r/ss_t)\n",
    "print(r2)"
   ]
  },
  {
   "cell_type": "markdown",
   "id": "8c56a24c-67b7-4bbf-a775-990d4f1198b7",
   "metadata": {},
   "source": [
    "0.63 is not so bad. Now we have implemented Simple Linear Regression Model using **Ordinary Least Square Method**."
   ]
  },
  {
   "cell_type": "code",
   "execution_count": null,
   "id": "21a8bf04-bb34-4260-b1c4-06bf7a6bf0f3",
   "metadata": {},
   "outputs": [],
   "source": []
  }
 ],
 "metadata": {
  "kernelspec": {
   "display_name": "Python 3 (ipykernel)",
   "language": "python",
   "name": "python3"
  },
  "language_info": {
   "codemirror_mode": {
    "name": "ipython",
    "version": 3
   },
   "file_extension": ".py",
   "mimetype": "text/x-python",
   "name": "python",
   "nbconvert_exporter": "python",
   "pygments_lexer": "ipython3",
   "version": "3.12.4"
  }
 },
 "nbformat": 4,
 "nbformat_minor": 5
}
